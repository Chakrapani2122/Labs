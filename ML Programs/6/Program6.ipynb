{
 "cells": [
  {
   "attachments": {},
   "cell_type": "markdown",
   "metadata": {},
   "source": [
    "# Program 6\n",
    "\n",
    "Assuming a set of documents that need to be classified, use the naïve Bayesian Classifier\n",
    "model to perform this task. Built-in Java classes/API can be used to write the program.\n",
    "Calculate the accuracy, precision, and recall for your data set.\n"
   ]
  },
  {
   "cell_type": "code",
   "execution_count": 1,
   "metadata": {},
   "outputs": [
    {
     "name": "stdout",
     "output_type": "stream",
     "text": [
      "All Targets\n",
      " ['alt.atheism', 'comp.graphics', 'comp.os.ms-windows.misc', 'comp.sys.ibm.pc.hardware', 'comp.sys.mac.hardware', 'comp.windows.x', 'misc.forsale', 'rec.autos', 'rec.motorcycles', 'rec.sport.baseball', 'rec.sport.hockey', 'sci.crypt', 'sci.electronics', 'sci.med', 'sci.space', 'soc.religion.christian', 'talk.politics.guns', 'talk.politics.mideast', 'talk.politics.misc', 'talk.religion.misc']\n",
      "Target Names ['alt.atheism', 'comp.graphics', 'sci.med', 'soc.religion.christian']\n",
      "Accuracy 0.8348868175765646\n",
      "                        precision    recall  f1-score   support\n",
      "\n",
      "           alt.atheism       0.97      0.60      0.74       319\n",
      "         comp.graphics       0.96      0.89      0.92       389\n",
      "               sci.med       0.97      0.81      0.88       396\n",
      "soc.religion.christian       0.65      0.99      0.78       398\n",
      "\n",
      "              accuracy                           0.83      1502\n",
      "             macro avg       0.89      0.82      0.83      1502\n",
      "          weighted avg       0.88      0.83      0.84      1502\n",
      "\n",
      "Confusion Matrix:\n",
      " [[192   2   6 119]\n",
      " [  2 347   4  36]\n",
      " [  2  11 322  61]\n",
      " [  2   2   1 393]]\n"
     ]
    }
   ],
   "source": [
    "from sklearn.datasets import fetch_20newsgroups\n",
    "from sklearn.pipeline import Pipeline\n",
    "from sklearn.feature_extraction.text import TfidfVectorizer\n",
    "from sklearn.naive_bayes import MultinomialNB\n",
    "from sklearn import metrics\n",
    "\n",
    "news = fetch_20newsgroups()\n",
    "print(\"All Targets\\n\", news[\"target_names\"])\n",
    "\n",
    "categories = ['alt.atheism', 'soc.religion.christian', 'comp.graphics', 'sci.med']\n",
    "news_train = fetch_20newsgroups(subset='train', categories=categories, shuffle='true')\n",
    "news_test = fetch_20newsgroups(subset='test', categories=categories, shuffle='true')\n",
    "print(\"Target Names\", news_train.target_names)\n",
    "\n",
    "text_clf = Pipeline([('vect', TfidfVectorizer()), ('clf', MultinomialNB())])\n",
    "text_clf.fit(news_train.data, news_train.target)\n",
    "predicted = text_clf.predict(news_test.data)\n",
    "\n",
    "print(\"Accuracy\", metrics.accuracy_score(news_test.target, predicted))\n",
    "\n",
    "print(metrics.classification_report(news_test.target, predicted, target_names=news_test.target_names))\n",
    "\n",
    "print(\"Confusion Matrix:\\n\", metrics.confusion_matrix(news_test.target, predicted))\n"
   ]
  },
  {
   "cell_type": "code",
   "execution_count": null,
   "metadata": {},
   "outputs": [],
   "source": []
  }
 ],
 "metadata": {
  "kernelspec": {
   "display_name": "Python 3",
   "language": "python",
   "name": "python3"
  },
  "language_info": {
   "codemirror_mode": {
    "name": "ipython",
    "version": 3
   },
   "file_extension": ".py",
   "mimetype": "text/x-python",
   "name": "python",
   "nbconvert_exporter": "python",
   "pygments_lexer": "ipython3",
   "version": "3.11.3"
  },
  "orig_nbformat": 4
 },
 "nbformat": 4,
 "nbformat_minor": 2
}
