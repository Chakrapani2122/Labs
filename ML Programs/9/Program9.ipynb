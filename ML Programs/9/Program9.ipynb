{
 "cells": [
  {
   "attachments": {},
   "cell_type": "markdown",
   "metadata": {},
   "source": [
    "# Program 9\n",
    "\n",
    "Write a program to implement k-Nearest Neighbour algorithm to classify the iris data set.\n",
    "Print both correct and wrong predictions. Java/Python ML library classes can be used for this\n",
    "problem."
   ]
  },
  {
   "cell_type": "code",
   "execution_count": 2,
   "metadata": {},
   "outputs": [
    {
     "name": "stdout",
     "output_type": "stream",
     "text": [
      "\n",
      "----------------------------------------------------------------------------------\n",
      "Original Label            Predicted Label           Correct/Wrong            \n",
      "----------------------------------------------------------------------------------\n",
      "Iris-setosa               Iris-setosa              Correct\n",
      "Iris-setosa               Iris-setosa              Correct\n",
      "Iris-virginica            Iris-virginica           Correct\n",
      "Iris-setosa               Iris-setosa              Correct\n",
      "Iris-setosa               Iris-setosa              Correct\n",
      "Iris-versicolor           Iris-versicolor          Correct\n",
      "Iris-setosa               Iris-setosa              Correct\n",
      "Iris-virginica            Iris-virginica           Correct\n",
      "Iris-setosa               Iris-setosa              Correct\n",
      "Iris-virginica            Iris-virginica           Correct\n",
      "Iris-versicolor           Iris-versicolor          Correct\n",
      "Iris-setosa               Iris-setosa              Correct\n",
      "Iris-virginica            Iris-virginica           Correct\n",
      "Iris-setosa               Iris-setosa              Correct\n",
      "Iris-setosa               Iris-setosa              Correct\n",
      "----------------------------------------------------------------------------------\n",
      "Confusion Matrix:\n",
      " [[9 0 0]\n",
      " [0 2 0]\n",
      " [0 0 4]]\n",
      "----------------------------------------------------------------------------------\n",
      "Classification Report:\n",
      "                  precision    recall  f1-score   support\n",
      "\n",
      "    Iris-setosa       1.00      1.00      1.00         9\n",
      "Iris-versicolor       1.00      1.00      1.00         2\n",
      " Iris-virginica       1.00      1.00      1.00         4\n",
      "\n",
      "       accuracy                           1.00        15\n",
      "      macro avg       1.00      1.00      1.00        15\n",
      "   weighted avg       1.00      1.00      1.00        15\n",
      "\n",
      "----------------------------------------------------------------------------------\n",
      "Accuracy of the Classifier is 1.00:\n",
      "----------------------------------------------------------------------------------\n"
     ]
    }
   ],
   "source": [
    "import numpy as np\n",
    "import pandas as pd\n",
    "from sklearn.neighbors import KNeighborsClassifier\n",
    "from sklearn.model_selection import train_test_split\n",
    "from sklearn import metrics\n",
    "dataset=pd.read_csv(\"iris.csv\")\n",
    "X = dataset.iloc[:, :-1]\n",
    "y = dataset.iloc[:, -1]\n",
    "X.head()\n",
    "Xtrain, Xtest, ytrain, ytest = train_test_split(X, y, test_size=0.1)\n",
    "Classifier = KNeighborsClassifier(n_neighbors=5).fit(Xtrain, ytrain)\n",
    "ypred = Classifier.predict(Xtest)\n",
    "i=0\n",
    "print(\"\\n----------------------------------------------------------------------------------\")\n",
    "print(\"%-25s %-25s %-25s\" % ('Original Label', 'Predicted Label', 'Correct/Wrong'))\n",
    "print(\"----------------------------------------------------------------------------------\")\n",
    "for label in ytest:\n",
    "    print(\"%-25s %-25s\" % (label, ypred[i]), end=\"\")\n",
    "    if label==ypred[i]:\n",
    "        print(\"Correct\")\n",
    "    else:\n",
    "        print(\"Wrong\")\n",
    "    i+=1\n",
    "\n",
    "print(\"----------------------------------------------------------------------------------\")\n",
    "print(\"Confusion Matrix:\\n\",metrics.confusion_matrix(ytest, ypred))\n",
    "print(\"----------------------------------------------------------------------------------\")\n",
    "print(\"Classification Report:\\n\",metrics.classification_report(ytest, ypred))\n",
    "print(\"----------------------------------------------------------------------------------\")\n",
    "print(\"Accuracy of the Classifier is %0.2f:\" %metrics.accuracy_score(ytest, ypred))\n",
    "print(\"----------------------------------------------------------------------------------\")\n"
   ]
  },
  {
   "cell_type": "code",
   "execution_count": null,
   "metadata": {},
   "outputs": [],
   "source": []
  }
 ],
 "metadata": {
  "kernelspec": {
   "display_name": "Python 3",
   "language": "python",
   "name": "python3"
  },
  "language_info": {
   "codemirror_mode": {
    "name": "ipython",
    "version": 3
   },
   "file_extension": ".py",
   "mimetype": "text/x-python",
   "name": "python",
   "nbconvert_exporter": "python",
   "pygments_lexer": "ipython3",
   "version": "3.11.3"
  },
  "orig_nbformat": 4
 },
 "nbformat": 4,
 "nbformat_minor": 2
}
