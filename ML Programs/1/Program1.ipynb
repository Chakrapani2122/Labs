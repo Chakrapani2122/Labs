{
 "cells": [
  {
   "attachments": {},
   "cell_type": "markdown",
   "metadata": {},
   "source": [
    "# Program 1\n",
    "\n",
    "Implement and demonstrate the FIND-S algorithm for finding the most specific hypothesis based\n",
    "on a given set of training data samples. Read the training data from a CSV file"
   ]
  },
  {
   "cell_type": "code",
   "execution_count": 2,
   "metadata": {},
   "outputs": [
    {
     "name": "stdout",
     "output_type": "stream",
     "text": [
      "The final hypothesis is: ['Morning' 'Sunny' '?' 'Yes' '?' '?']\n"
     ]
    }
   ],
   "source": [
    "import pandas as pd\n",
    "import numpy as np\n",
    "df = pd.read_csv(\"data.csv\")\n",
    "df\n",
    "d= np.array(df.drop(\"EnjoySport\",axis=1))\n",
    "target = np.array(df.EnjoySport)\n",
    "d\n",
    "target\n",
    "def train(c,t):\n",
    "  for i, val in enumerate(t):\n",
    "    if val==\"Yes\":\n",
    "      specific_hypothesis=c[i].copy()\n",
    "      break\n",
    "  for i, val in enumerate(c):\n",
    "    if t[i]==\"Yes\":\n",
    "      for x in range(len(specific_hypothesis)):\n",
    "        if val[x]!=specific_hypothesis[x]:\n",
    "          specific_hypothesis[x]=\"?\"\n",
    "        else:\n",
    "          pass\n",
    "  return specific_hypothesis\n",
    "print(\"The final hypothesis is:\",train(d,target))"
   ]
  }
 ],
 "metadata": {
  "kernelspec": {
   "display_name": "Python 3",
   "language": "python",
   "name": "python3"
  },
  "language_info": {
   "codemirror_mode": {
    "name": "ipython",
    "version": 3
   },
   "file_extension": ".py",
   "mimetype": "text/x-python",
   "name": "python",
   "nbconvert_exporter": "python",
   "pygments_lexer": "ipython3",
   "version": "3.11.3"
  },
  "orig_nbformat": 4
 },
 "nbformat": 4,
 "nbformat_minor": 2
}
