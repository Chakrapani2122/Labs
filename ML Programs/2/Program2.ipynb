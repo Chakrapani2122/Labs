{
 "cells": [
  {
   "attachments": {},
   "cell_type": "markdown",
   "metadata": {},
   "source": [
    "# Program 2 \n",
    "\n",
    "For a given set of training data examples stored in a .CSV file, implement and demonstrate the\n",
    "Candidate-Elimination algorithm to output a description of the set of all hypotheses\n",
    "consistent with the training examples"
   ]
  },
  {
   "cell_type": "code",
   "execution_count": 1,
   "metadata": {},
   "outputs": [
    {
     "name": "stdout",
     "output_type": "stream",
     "text": [
      "Initialization of specific_h, general_h\n",
      "['Sunny' 'Warm' 'Normal' 'Strong' 'Warm' 'Same']\n",
      "[['?', '?', '?', '?', '?', '?'], ['?', '?', '?', '?', '?', '?'], ['?', '?', '?', '?', '?', '?'], ['?', '?', '?', '?', '?', '?'], ['?', '?', '?', '?', '?', '?'], ['?', '?', '?', '?', '?', '?']]\n",
      "Step of Candidate Elimination Algorithm :  1\n",
      "['Sunny' 'Warm' 'Normal' 'Strong' 'Warm' 'Same']\n",
      "[['?', '?', '?', '?', '?', '?'], ['?', '?', '?', '?', '?', '?'], ['?', '?', '?', '?', '?', '?'], ['?', '?', '?', '?', '?', '?'], ['?', '?', '?', '?', '?', '?'], ['?', '?', '?', '?', '?', '?']]\n",
      "Step of Candidate Elimination Algorithm :  2\n",
      "['Sunny' 'Warm' '?' 'Strong' 'Warm' 'Same']\n",
      "[['?', '?', '?', '?', '?', '?'], ['?', '?', '?', '?', '?', '?'], ['?', '?', '?', '?', '?', '?'], ['?', '?', '?', '?', '?', '?'], ['?', '?', '?', '?', '?', '?'], ['?', '?', '?', '?', '?', '?']]\n",
      "Step of Candidate Elimination Algorithm :  3\n",
      "['Sunny' 'Warm' '?' 'Strong' 'Warm' 'Same']\n",
      "[['Sunny', '?', '?', '?', '?', '?'], ['?', 'Warm', '?', '?', '?', '?'], ['?', '?', '?', '?', '?', '?'], ['?', '?', '?', '?', '?', '?'], ['?', '?', '?', '?', '?', '?'], ['?', '?', '?', '?', '?', 'Same']]\n",
      "Step of Candidate Elimination Algorithm :  4\n",
      "['Sunny' 'Warm' '?' 'Strong' '?' '?']\n",
      "[['Sunny', '?', '?', '?', '?', '?'], ['?', 'Warm', '?', '?', '?', '?'], ['?', '?', '?', '?', '?', '?'], ['?', '?', '?', '?', '?', '?'], ['?', '?', '?', '?', '?', '?'], ['?', '?', '?', '?', '?', '?']]\n",
      "Final Specific_h ['Sunny' 'Warm' '?' 'Strong' '?' '?']\n",
      "Final General_h [['Sunny', '?', '?', '?', '?', '?'], ['?', 'Warm', '?', '?', '?', '?']]\n"
     ]
    }
   ],
   "source": [
    "import numpy as np\n",
    "import pandas as pd\n",
    "df = pd.read_csv(\"data.csv\")\n",
    "df\n",
    "concept = np.array(df.drop(\"enjoySport\", axis=1))\n",
    "concept\n",
    "target = np.array(df.enjoySport)\n",
    "target\n",
    "def learn(concept, target):\n",
    "  specific_h = concept[0].copy()\n",
    "  general_h = [[\"?\" for i in range(len(specific_h))] for i in range(len(specific_h))]\n",
    "  print(\"Initialization of specific_h, general_h\")\n",
    "  print(specific_h)\n",
    "  print(general_h)\n",
    "  for i, h in enumerate(concept):\n",
    "    if target[i]==\"Yes\":\n",
    "      for x in range(len(specific_h)):\n",
    "        if h[x] != specific_h[x]:\n",
    "          specific_h[x]='?'\n",
    "          general_h[x][x] = '?'\n",
    "    if target[i]==\"No\":\n",
    "      for x in range(len(specific_h)):\n",
    "        if h[x]!=specific_h[x]:\n",
    "          general_h[x][x]=specific_h[x]\n",
    "        else:\n",
    "          general_h[x][x]='?'\n",
    "    print(\"Step of Candidate Elimination Algorithm : \", i+1)\n",
    "    print(specific_h)\n",
    "    print(general_h)\n",
    "  indices = [i for i, val in enumerate(general_h) if val == ['?','?','?','?','?','?']]\n",
    "  for i in indices:\n",
    "    general_h.remove(['?','?','?','?','?','?'])\n",
    "  return specific_h, general_h\n",
    "s_final, g_final = learn(concept, target)\n",
    "print(\"Final Specific_h\", s_final)\n",
    "print(\"Final General_h\", g_final)"
   ]
  },
  {
   "cell_type": "code",
   "execution_count": 2,
   "metadata": {},
   "outputs": [
    {
     "name": "stdout",
     "output_type": "stream",
     "text": [
      "Initialization of specific_h, general_h\n",
      "['Sunny' 'Warm' 'Normal' 'Strong' 'Warm' 'Same']\n",
      "[['?', '?', '?', '?', '?', '?'], ['?', '?', '?', '?', '?', '?'], ['?', '?', '?', '?', '?', '?'], ['?', '?', '?', '?', '?', '?'], ['?', '?', '?', '?', '?', '?'], ['?', '?', '?', '?', '?', '?']]\n",
      "Step of Candidate Elimination Algorithm:  1\n",
      "['Sunny' 'Warm' 'Normal' 'Strong' 'Warm' 'Same']\n",
      "[['?', '?', '?', '?', '?', '?'], ['?', '?', '?', '?', '?', '?'], ['?', '?', '?', '?', '?', '?'], ['?', '?', '?', '?', '?', '?'], ['?', '?', '?', '?', '?', '?'], ['?', '?', '?', '?', '?', '?']]\n",
      "Step of Candidate Elimination Algorithm:  2\n",
      "['Sunny' 'Warm' '?' 'Strong' 'Warm' 'Same']\n",
      "[['?', '?', '?', '?', '?', '?'], ['?', '?', '?', '?', '?', '?'], ['?', '?', '?', '?', '?', '?'], ['?', '?', '?', '?', '?', '?'], ['?', '?', '?', '?', '?', '?'], ['?', '?', '?', '?', '?', '?']]\n",
      "Step of Candidate Elimination Algorithm:  3\n",
      "['?' '?' '?' 'Strong' 'Warm' '?']\n",
      "[['?', '?', '?', '?', '?', '?'], ['?', '?', '?', '?', '?', '?'], ['?', '?', '?', '?', '?', '?'], ['?', '?', '?', 'Strong', '?', '?'], ['?', '?', '?', '?', 'Warm', '?'], ['?', '?', '?', '?', '?', '?']]\n",
      "Step of Candidate Elimination Algorithm:  4\n",
      "['?' '?' '?' 'Strong' '?' '?']\n",
      "[['?', '?', '?', '?', '?', '?'], ['?', '?', '?', '?', '?', '?'], ['?', '?', '?', '?', '?', '?'], ['?', '?', '?', '?', '?', '?'], ['?', '?', '?', '?', '?', '?'], ['?', '?', '?', '?', '?', '?']]\n",
      "Final Specific_h: ['?' '?' '?' 'Strong' '?' '?']\n",
      "Final General_h: []\n"
     ]
    }
   ],
   "source": [
    "import pandas as pd\n",
    "\n",
    "df = pd.read_csv(\"data.csv\")\n",
    "concept = df.drop(\"enjoySport\", axis=1).values\n",
    "target = df.enjoySport.values\n",
    "\n",
    "def learn(concept, target):\n",
    "    specific_h = concept[0].copy()\n",
    "    general_h = [['?' for _ in range(len(specific_h))] for _ in range(len(specific_h))]\n",
    "    print(\"Initialization of specific_h, general_h\")\n",
    "    print(specific_h)\n",
    "    print(general_h)\n",
    "\n",
    "    for i, h in enumerate(concept):\n",
    "        for x in range(len(specific_h)):\n",
    "            if h[x] != specific_h[x]:\n",
    "                specific_h[x] = '?'\n",
    "                general_h[x][x] = '?'\n",
    "            elif target[i] == \"No\":\n",
    "                general_h[x][x] = specific_h[x]\n",
    "            else:\n",
    "                general_h[x][x] = '?'\n",
    "\n",
    "        print(\"Step of Candidate Elimination Algorithm: \", i+1)\n",
    "        print(specific_h)\n",
    "        print(general_h)\n",
    "\n",
    "    general_h = [h for h in general_h if h != ['?'] * len(specific_h)]\n",
    "    return specific_h, general_h\n",
    "\n",
    "s_final, g_final = learn(concept, target)\n",
    "print(\"Final Specific_h:\", s_final)\n",
    "print(\"Final General_h:\", g_final)\n"
   ]
  }
 ],
 "metadata": {
  "kernelspec": {
   "display_name": "Python 3",
   "language": "python",
   "name": "python3"
  },
  "language_info": {
   "codemirror_mode": {
    "name": "ipython",
    "version": 3
   },
   "file_extension": ".py",
   "mimetype": "text/x-python",
   "name": "python",
   "nbconvert_exporter": "python",
   "pygments_lexer": "ipython3",
   "version": "3.11.4"
  },
  "orig_nbformat": 4
 },
 "nbformat": 4,
 "nbformat_minor": 2
}
